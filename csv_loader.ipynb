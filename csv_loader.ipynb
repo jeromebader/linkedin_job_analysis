{
 "cells": [
  {
   "cell_type": "code",
   "execution_count": 5,
   "metadata": {},
   "outputs": [
    {
     "name": "stdout",
     "output_type": "stream",
     "text": [
      "/media/christian/D/Bootcamp/Alumno/ds_thebridge_6_22/EDA/linkedin_job_analysis/data\n",
      "['/media/christian/D/Bootcamp/Alumno/ds_thebridge_6_22/EDA/linkedin_job_analysis/data/linkedin_spain.csv', '/media/christian/D/Bootcamp/Alumno/ds_thebridge_6_22/EDA/linkedin_job_analysis/data/linkedin_Germany.csv', '/media/christian/D/Bootcamp/Alumno/ds_thebridge_6_22/EDA/linkedin_job_analysis/data/linkedin_Spain_\"Fullstack Developer\".csv', '/media/christian/D/Bootcamp/Alumno/ds_thebridge_6_22/EDA/linkedin_job_analysis/data/linkedin_Denmark.csv', '/media/christian/D/Bootcamp/Alumno/ds_thebridge_6_22/EDA/linkedin_job_analysis/data/linkedin_Germany_\"Fullstack Developer\".csv', '/media/christian/D/Bootcamp/Alumno/ds_thebridge_6_22/EDA/linkedin_job_analysis/data/linkedin_Netherlands_\"Fullstack Developer\".csv', '/media/christian/D/Bootcamp/Alumno/ds_thebridge_6_22/EDA/linkedin_job_analysis/data/linkedin_Austria_\"Fullstack Developer\".csv', '/media/christian/D/Bootcamp/Alumno/ds_thebridge_6_22/EDA/linkedin_job_analysis/data/linkedin_portugal.csv', '/media/christian/D/Bootcamp/Alumno/ds_thebridge_6_22/EDA/linkedin_job_analysis/data/linkedin_Portugal_\"Fullstack Developer\".csv', '/media/christian/D/Bootcamp/Alumno/ds_thebridge_6_22/EDA/linkedin_job_analysis/data/linkedin_Poland.csv', '/media/christian/D/Bootcamp/Alumno/ds_thebridge_6_22/EDA/linkedin_job_analysis/data/linkedin_United Kingdom_\"Fullstack Developer\".csv', '/media/christian/D/Bootcamp/Alumno/ds_thebridge_6_22/EDA/linkedin_job_analysis/data/linkedin_Poland_\"Fullstack Developer\".csv', '/media/christian/D/Bootcamp/Alumno/ds_thebridge_6_22/EDA/linkedin_job_analysis/data/linkedin_austria.csv', '/media/christian/D/Bootcamp/Alumno/ds_thebridge_6_22/EDA/linkedin_job_analysis/data/linkedin_united kingdom.csv', '/media/christian/D/Bootcamp/Alumno/ds_thebridge_6_22/EDA/linkedin_job_analysis/data/linkedin_Netherlands.csv', '/media/christian/D/Bootcamp/Alumno/ds_thebridge_6_22/EDA/linkedin_job_analysis/data/linkedin_Italy_\"Fullstack Developer\".csv', '/media/christian/D/Bootcamp/Alumno/ds_thebridge_6_22/EDA/linkedin_job_analysis/data/linkedin_Italy.csv']\n",
      "<class 'pandas.core.frame.DataFrame'>\n",
      "RangeIndex: 4578 entries, 0 to 4577\n",
      "Data columns (total 16 columns):\n",
      " #   Column        Non-Null Count  Dtype \n",
      "---  ------        --------------  ----- \n",
      " 0   id            4578 non-null   object\n",
      " 1   country       4578 non-null   object\n",
      " 2   searchterm    4578 non-null   object\n",
      " 3   job_title     4578 non-null   object\n",
      " 4   company       4578 non-null   object\n",
      " 5   job_location  4578 non-null   object\n",
      " 6   time          4578 non-null   object\n",
      " 7   applicants    4578 non-null   object\n",
      " 8   workplace     4578 non-null   object\n",
      " 9   working_time  4578 non-null   object\n",
      " 10  job_level     4578 non-null   object\n",
      " 11  company_size  4578 non-null   object\n",
      " 12  industry      4578 non-null   object\n",
      " 13  job_details   4578 non-null   object\n",
      " 14  job_url       4578 non-null   object\n",
      " 15  timestamp     4578 non-null   object\n",
      "dtypes: object(16)\n",
      "memory usage: 572.4+ KB\n"
     ]
    }
   ],
   "source": [
    "import pandas as pd\n",
    "import glob\n",
    "import os\n",
    "\n",
    "\n",
    "directory = os.getcwd()\n",
    "print(directory)\n",
    "joined_files = os.path.join(directory, \"*.csv\")\n",
    "  \n",
    "# A list of all joined files is returned\n",
    "joined_list = glob.glob(joined_files)\n",
    "\n",
    "print(joined_list)\n",
    "\n",
    "#df = pd.concat(map(pd.read_csv, joined_list), ignore_index=True)\n",
    "#print(df)\n",
    "\n",
    "filelist = list()\n",
    "for filename in joined_list:    \n",
    "    df = pd.read_csv(filename,sep=\"|\")    \n",
    "    filelist.append(df)\n",
    "frame_fin = pd.concat(filelist, axis=0, ignore_index=True)\n",
    "frame_fin\n",
    "\n",
    "\n",
    "frame_fin"
   ]
  }
 ],
 "metadata": {
  "kernelspec": {
   "display_name": "Python 3.10.4 64-bit",
   "language": "python",
   "name": "python3"
  },
  "language_info": {
   "codemirror_mode": {
    "name": "ipython",
    "version": 3
   },
   "file_extension": ".py",
   "mimetype": "text/x-python",
   "name": "python",
   "nbconvert_exporter": "python",
   "pygments_lexer": "ipython3",
   "version": "3.10.4"
  },
  "orig_nbformat": 4,
  "vscode": {
   "interpreter": {
    "hash": "31f2aee4e71d21fbe5cf8b01ff0e069b9275f58929596ceb00d14d90e3e16cd6"
   }
  }
 },
 "nbformat": 4,
 "nbformat_minor": 2
}
